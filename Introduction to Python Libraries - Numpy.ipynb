{
 "cells": [
  {
   "cell_type": "markdown",
   "id": "4f6f0db7",
   "metadata": {},
   "source": [
    "### NUMPY\n",
    "This is a fundamental Package for scientific computing for manipulation of multi-dimensional arrays and matrices. It is particularly useful for linear algebra, Fourier transform, rand number simulation, etc.\n",
    "\n",
    "**Matrices** are rectangular array of numbers,symbols and expressions arranged in rows and columns. The numbers, symbols or expressions in the matrix are called its entries or its elements. The horizontal and vertical lines in a matrix are called rows and columns, respectively. It's operations include addition, subtraction and multiplication\n",
    "\n",
    "The first step is to import numpy library into the active notebook."
   ]
  },
  {
   "cell_type": "code",
   "execution_count": 1,
   "id": "7b268c11",
   "metadata": {},
   "outputs": [],
   "source": [
    "import numpy"
   ]
  },
  {
   "cell_type": "markdown",
   "id": "80ee32fa",
   "metadata": {},
   "source": [
    "To shorten the length of any library, a better alternative is to instantiate the library witha shorter name, as in:"
   ]
  },
  {
   "cell_type": "code",
   "execution_count": 2,
   "id": "c3d83e14",
   "metadata": {},
   "outputs": [],
   "source": [
    "import numpy as np"
   ]
  },
  {
   "cell_type": "markdown",
   "id": "9f8170e3",
   "metadata": {},
   "source": [
    "With this, each time numpy is required on this active notebook, `np` will be used instead. "
   ]
  },
  {
   "cell_type": "code",
   "execution_count": 4,
   "id": "10773fa4",
   "metadata": {},
   "outputs": [
    {
     "name": "stdout",
     "output_type": "stream",
     "text": [
      "[1 2 3 4 5]\n",
      "The shape of x is (5,)\n",
      "[ 9 10]\n",
      "The shape of Y is (2,)\n"
     ]
    }
   ],
   "source": [
    "#creating a 1 dimensional array\n",
    "\n",
    "x = np.array([1, 2, 3, 4, 5])\n",
    "y= np.array([9, 10])\n",
    "\n",
    "print(x)\n",
    "print('The shape of x is', x.shape)\n",
    "\n",
    "print(y)\n",
    "print('The shape of Y is', y.shape)"
   ]
  },
  {
   "cell_type": "code",
   "execution_count": 5,
   "id": "5b5e2629",
   "metadata": {},
   "outputs": [
    {
     "name": "stdout",
     "output_type": "stream",
     "text": [
      "[[1 2]\n",
      " [3 4]]\n",
      "The shape of Y is (2, 2)\n"
     ]
    }
   ],
   "source": [
    "#creating a 2D array\n",
    "z = np.array([[1,2],[3,4]])\n",
    "\n",
    "print(z)\n",
    "print('The shape of Y is', z.shape)"
   ]
  },
  {
   "cell_type": "code",
   "execution_count": 8,
   "id": "83b24a20",
   "metadata": {},
   "outputs": [
    {
     "name": "stdout",
     "output_type": "stream",
     "text": [
      "[[[ 1  2  3]\n",
      "  [ 4  5  6]\n",
      "  [ 7  8  9]]\n",
      "\n",
      " [[10 11 12]\n",
      "  [13 14 15]\n",
      "  [16 17 18]]\n",
      "\n",
      " [[19 20 21]\n",
      "  [22 23 24]\n",
      "  [26 27 28]]] \n",
      "\n",
      "The shape of w is (3, 3, 3)\n"
     ]
    }
   ],
   "source": [
    "#creating a multidimensional array\n",
    "\n",
    "w = np.array([[[1,2,3],[4,5,6], [7,8,9]], [[10, 11, 12], [13,14,15], [16,17,18]], [[19,20,21],[22,23,24], [26,27,28]]])\n",
    "\n",
    "print(w, '\\n')\n",
    "\n",
    "print('The shape of w is', w.shape)"
   ]
  },
  {
   "cell_type": "markdown",
   "id": "c1caee8d",
   "metadata": {},
   "source": [
    "**Numpy Functions**\n",
    "\n",
    "Numpy has built-in functions for creating arrays. These include:\n",
    "\n",
    "* arange\n",
    "* reshape\n",
    "* zeros\n",
    "* ones\n",
    "* full\n",
    "* linspace\n",
    "* random\n",
    "\n",
    "> The dimensions (no. of rows and columns) are passed s parameters to the function."
   ]
  },
  {
   "cell_type": "code",
   "execution_count": 13,
   "id": "f26db398",
   "metadata": {},
   "outputs": [
    {
     "name": "stdout",
     "output_type": "stream",
     "text": [
      "[0 1 2 3 4 5 6 7 8 9]\n"
     ]
    }
   ],
   "source": [
    "#arange is used to create arrays with values in a specified range\n",
    "\n",
    "A10 = np.arange(10)\n",
    "A10\n",
    "print(A10)"
   ]
  },
  {
   "cell_type": "code",
   "execution_count": 14,
   "id": "730f49d1",
   "metadata": {},
   "outputs": [
    {
     "name": "stdout",
     "output_type": "stream",
     "text": [
      "[0 1 2 3 4 5 6 7 8 9] \n",
      " [[0]\n",
      " [1]\n",
      " [2]\n",
      " [3]\n",
      " [4]\n",
      " [5]\n",
      " [6]\n",
      " [7]\n",
      " [8]\n",
      " [9]]\n",
      "The shape of 1D array X =  (10, 1)\n"
     ]
    }
   ],
   "source": [
    "#to change a scalar matrix to vector\n",
    "\n",
    "B10 = A10.reshape(-1,1)\n",
    "\n",
    "print(A10, '\\n', B10)\n",
    "print('The shape of 1D array X = ', B10.shape)"
   ]
  },
  {
   "cell_type": "code",
   "execution_count": 19,
   "id": "5780a5e6",
   "metadata": {},
   "outputs": [
    {
     "name": "stdout",
     "output_type": "stream",
     "text": [
      "[[0 1 2 3 4]\n",
      " [5 6 7 8 9]]\n",
      "The shape of 1D array X =  (2, 5)\n"
     ]
    }
   ],
   "source": [
    "A10 = B10.reshape(2,5)\n",
    "print(A10)\n",
    "\n",
    "print('The shape of 1D array X = ', A10.shape)"
   ]
  },
  {
   "cell_type": "markdown",
   "id": "545ffa8a",
   "metadata": {},
   "source": [
    "> Note: The new dimension must be compatible with the old one."
   ]
  },
  {
   "cell_type": "code",
   "execution_count": 25,
   "id": "0e677ee1",
   "metadata": {
    "scrolled": true
   },
   "outputs": [
    {
     "data": {
      "text/plain": [
       "array([[0., 0., 0.],\n",
       "       [0., 0., 0.]])"
      ]
     },
     "execution_count": 25,
     "metadata": {},
     "output_type": "execute_result"
    }
   ],
   "source": [
    "# zeros is used to create an array filled with zeros.\n",
    "\n",
    "np_zeros = np.zeros((2,3))\n",
    "\n",
    "np_zeros #float result"
   ]
  },
  {
   "cell_type": "code",
   "execution_count": 27,
   "id": "3e869854",
   "metadata": {},
   "outputs": [
    {
     "data": {
      "text/plain": [
       "array([[0, 0, 0],\n",
       "       [0, 0, 0]])"
      ]
     },
     "execution_count": 27,
     "metadata": {},
     "output_type": "execute_result"
    }
   ],
   "source": [
    "# specifying the desired data type\n",
    "\n",
    "np_zeros = np.zeros((2,3))\n",
    "\n",
    "np_zeros.astype(int) #converting to integer\n"
   ]
  },
  {
   "cell_type": "code",
   "execution_count": 21,
   "id": "7b976421",
   "metadata": {},
   "outputs": [
    {
     "data": {
      "text/plain": [
       "array([[1., 1., 1.],\n",
       "       [1., 1., 1.]])"
      ]
     },
     "execution_count": 21,
     "metadata": {},
     "output_type": "execute_result"
    }
   ],
   "source": [
    "#ones is used to create an array filled with ones\n",
    "np_ones = np.ones((2,3))\n",
    "\n",
    "np_ones"
   ]
  },
  {
   "cell_type": "code",
   "execution_count": 29,
   "id": "8f8317b9",
   "metadata": {},
   "outputs": [
    {
     "data": {
      "text/plain": [
       "array([[4, 4, 4],\n",
       "       [4, 4, 4]])"
      ]
     },
     "execution_count": 29,
     "metadata": {},
     "output_type": "execute_result"
    }
   ],
   "source": [
    "# full function creates a n*n array filled with a specified given value\n",
    "np_full = np.full((2,3),4)\n",
    "\n",
    "np_full"
   ]
  },
  {
   "cell_type": "code",
   "execution_count": 30,
   "id": "06f59f51",
   "metadata": {},
   "outputs": [
    {
     "data": {
      "text/plain": [
       "array([[1., 0., 0., 0., 0., 0.],\n",
       "       [0., 1., 0., 0., 0., 0.],\n",
       "       [0., 0., 1., 0., 0., 0.],\n",
       "       [0., 0., 0., 1., 0., 0.],\n",
       "       [0., 0., 0., 0., 1., 0.],\n",
       "       [0., 0., 0., 0., 0., 1.]])"
      ]
     },
     "execution_count": 30,
     "metadata": {},
     "output_type": "execute_result"
    }
   ],
   "source": [
    "# the eye function lets you create a n*n diagonal (identity) matrix\n",
    "np_eye = np.eye(6,6)\n",
    "\n",
    "np_eye"
   ]
  },
  {
   "cell_type": "code",
   "execution_count": 31,
   "id": "acd27357",
   "metadata": {},
   "outputs": [
    {
     "data": {
      "text/plain": [
       "array([[1, 0, 0, 0, 0, 0, 0, 0],\n",
       "       [0, 1, 0, 0, 0, 0, 0, 0],\n",
       "       [0, 0, 1, 0, 0, 0, 0, 0]])"
      ]
     },
     "execution_count": 31,
     "metadata": {},
     "output_type": "execute_result"
    }
   ],
   "source": [
    "np_eye = np.eye(3,8)\n",
    "\n",
    "np_eye.astype(int)"
   ]
  },
  {
   "cell_type": "code",
   "execution_count": 32,
   "id": "79ae9f78",
   "metadata": {},
   "outputs": [
    {
     "data": {
      "text/plain": [
       "array([ 0.,  2.,  4.,  6.,  8., 10.])"
      ]
     },
     "execution_count": 32,
     "metadata": {},
     "output_type": "execute_result"
    }
   ],
   "source": [
    "#linspace returns evenly spaced numbers over a specified interval\n",
    "np_linspace = np.linspace(0,10, num=6)\n",
    "\n",
    "np_linspace"
   ]
  },
  {
   "cell_type": "code",
   "execution_count": 33,
   "id": "e9f7239c",
   "metadata": {},
   "outputs": [
    {
     "data": {
      "text/plain": [
       "array([ 0. ,  2.5,  5. ,  7.5, 10. ])"
      ]
     },
     "execution_count": 33,
     "metadata": {},
     "output_type": "execute_result"
    }
   ],
   "source": [
    "np_linspace = np.linspace(0,10, num=5)\n",
    "\n",
    "np_linspace"
   ]
  },
  {
   "cell_type": "code",
   "execution_count": 36,
   "id": "9ea4ad69",
   "metadata": {},
   "outputs": [
    {
     "data": {
      "text/plain": [
       "array([[0.37148322, 0.22032344, 0.68098175],\n",
       "       [0.39327662, 0.90370926, 0.52471027]])"
      ]
     },
     "execution_count": 36,
     "metadata": {},
     "output_type": "execute_result"
    }
   ],
   "source": [
    "#This creates an array filled with random values between 0 and 1\n",
    "np_rand = np.random.random_sample((2,3))\n",
    "\n",
    "np_rand"
   ]
  },
  {
   "cell_type": "code",
   "execution_count": 37,
   "id": "ee2be7a8",
   "metadata": {},
   "outputs": [
    {
     "data": {
      "text/plain": [
       "array([[0.93416159, 0.89774146, 0.74458141],\n",
       "       [0.96242609, 0.89407568, 0.68114655]])"
      ]
     },
     "execution_count": 37,
     "metadata": {},
     "output_type": "execute_result"
    }
   ],
   "source": [
    "np_rand1 = np.random.rand(2,3)\n",
    "np_rand1"
   ]
  },
  {
   "cell_type": "code",
   "execution_count": 55,
   "id": "1b5740e0",
   "metadata": {},
   "outputs": [
    {
     "data": {
      "text/plain": [
       "array([[2, 8, 0, 7, 0],\n",
       "       [2, 6, 9, 5, 5],\n",
       "       [4, 4, 0, 8, 5]])"
      ]
     },
     "execution_count": 55,
     "metadata": {},
     "output_type": "execute_result"
    }
   ],
   "source": [
    "\n",
    "x =  np.random.randint(10, size=(3,5))\n",
    " \n",
    "x"
   ]
  },
  {
   "cell_type": "code",
   "execution_count": 79,
   "id": "f7275363",
   "metadata": {},
   "outputs": [
    {
     "data": {
      "text/plain": [
       "array([[0.01650521, 0.2149057 , 0.97447369],\n",
       "       [0.97665743, 0.49746181, 0.29095681]])"
      ]
     },
     "execution_count": 79,
     "metadata": {},
     "output_type": "execute_result"
    }
   ],
   "source": [
    "np_rand = np.random.random_sample((2,3))\n",
    "np.save('array_data.npy', np_rand)\n",
    "np_rand #still changing,will find out later"
   ]
  },
  {
   "cell_type": "markdown",
   "id": "23300e35",
   "metadata": {},
   "source": [
    "#### Accessing Elements of Numpy Array\n",
    "> To access an element in a two-dimensional array, you need to specify an index for both the row and column"
   ]
  },
  {
   "cell_type": "code",
   "execution_count": 81,
   "id": "d6d832b7",
   "metadata": {},
   "outputs": [
    {
     "data": {
      "text/plain": [
       "array([[1, 2],\n",
       "       [3, 4]])"
      ]
     },
     "execution_count": 81,
     "metadata": {},
     "output_type": "execute_result"
    }
   ],
   "source": [
    "z"
   ]
  },
  {
   "cell_type": "code",
   "execution_count": 80,
   "id": "c6652703",
   "metadata": {},
   "outputs": [
    {
     "data": {
      "text/plain": [
       "3"
      ]
     },
     "execution_count": 80,
     "metadata": {},
     "output_type": "execute_result"
    }
   ],
   "source": [
    "#row 1, column 0 gives a scalar\n",
    "z[1,0]"
   ]
  },
  {
   "cell_type": "code",
   "execution_count": 83,
   "id": "ef0dfdaa",
   "metadata": {},
   "outputs": [
    {
     "data": {
      "text/plain": [
       "3"
      ]
     },
     "execution_count": 83,
     "metadata": {},
     "output_type": "execute_result"
    }
   ],
   "source": [
    "#or\n",
    "\n",
    "p = z[1][0]\n",
    "p"
   ]
  },
  {
   "cell_type": "code",
   "execution_count": 84,
   "id": "3baa490e",
   "metadata": {},
   "outputs": [
    {
     "data": {
      "text/plain": [
       "4"
      ]
     },
     "execution_count": 84,
     "metadata": {},
     "output_type": "execute_result"
    }
   ],
   "source": [
    "z[1,1]"
   ]
  },
  {
   "cell_type": "code",
   "execution_count": 86,
   "id": "60921dbd",
   "metadata": {},
   "outputs": [
    {
     "data": {
      "text/plain": [
       "array([1])"
      ]
     },
     "execution_count": 86,
     "metadata": {},
     "output_type": "execute_result"
    }
   ],
   "source": [
    "p = (z[0:1,0])\n",
    "p"
   ]
  },
  {
   "cell_type": "markdown",
   "id": "7ecdcc83",
   "metadata": {},
   "source": [
    "### Numpy Attributes\n",
    "\n",
    "Array attributes reflect information that is intrinsic to the array itself. Generally, accessing an array through its attributes allows you to get and sometimes set intrinsic properties of the array without creating a new array. The exposed attributes are the core parts of an array and only some of them can be reset meaningfully without creating a new array\n",
    "\n",
    "Some commonly used attributes are:\n",
    "\n",
    "* Shape: indicates the size of an array\n",
    "\n",
    "* Size: retums the total number of elements in the NumPy array\n",
    "\n",
    "* Dtype: returns the type of elements in the array, ie, int64, character"
   ]
  },
  {
   "cell_type": "code",
   "execution_count": 88,
   "id": "53258354",
   "metadata": {
    "scrolled": true
   },
   "outputs": [
    {
     "name": "stdout",
     "output_type": "stream",
     "text": [
      "The Dtype of elements in array X = int32\n",
      "The shape of ND array w = int32\n"
     ]
    }
   ],
   "source": [
    "print (\"The Dtype of elements in array X =\", x.dtype)\n",
    "print (\"The shape of ND array w =\", w.dtype)"
   ]
  },
  {
   "cell_type": "code",
   "execution_count": 90,
   "id": "6198dc1b",
   "metadata": {},
   "outputs": [
    {
     "name": "stdout",
     "output_type": "stream",
     "text": [
      "The shape of 10 array X = (3, 5)\n",
      "The shape of 2D array Z =  (2, 2)\n",
      "The shape of ND array w = (3, 3, 3)\n",
      "The shape of arange A10 = (2, 5)\n"
     ]
    }
   ],
   "source": [
    "print (\"The shape of 10 array X =\", x.shape)\n",
    "print (\"The shape of 2D array Z = \", z.shape)\n",
    "print (\"The shape of ND array w =\", w.shape)\n",
    "print (\"The shape of arange A10 =\", A10.shape)"
   ]
  },
  {
   "cell_type": "code",
   "execution_count": 92,
   "id": "eee4bb59",
   "metadata": {},
   "outputs": [
    {
     "name": "stdout",
     "output_type": "stream",
     "text": [
      "The shape of ND array W =  27\n",
      "The shape of arange A10 =  10\n"
     ]
    }
   ],
   "source": [
    "print (\"The shape of ND array W = \", w.size)\n",
    "print (\"The shape of arange A10 = \", A10.size)"
   ]
  },
  {
   "cell_type": "markdown",
   "id": "1868f3ab",
   "metadata": {},
   "source": [
    "#### Numpy array math operations\n"
   ]
  },
  {
   "cell_type": "code",
   "execution_count": 93,
   "id": "9e5fe626",
   "metadata": {},
   "outputs": [],
   "source": [
    "x = np.array([[1,2,3], [4,5,6]])\n",
    "y = np.array([[2,2,2], [3,3,3]])\n",
    "z = np.array([1,2,3])"
   ]
  },
  {
   "cell_type": "code",
   "execution_count": 94,
   "id": "f56dad57",
   "metadata": {},
   "outputs": [
    {
     "data": {
      "text/plain": [
       "array([[1, 4],\n",
       "       [2, 5],\n",
       "       [3, 6]])"
      ]
     },
     "execution_count": 94,
     "metadata": {},
     "output_type": "execute_result"
    }
   ],
   "source": [
    "#Transpose a matrix\n",
    "x.T"
   ]
  },
  {
   "cell_type": "code",
   "execution_count": 95,
   "id": "0bdbfe79",
   "metadata": {},
   "outputs": [
    {
     "name": "stdout",
     "output_type": "stream",
     "text": [
      "[[3 4 5]\n",
      " [7 8 9]]\n",
      "[[3 4 5]\n",
      " [7 8 9]]\n"
     ]
    }
   ],
   "source": [
    "#Elementwise addittion\n",
    "print (x+y)\n",
    "print (np.add(x,y))"
   ]
  },
  {
   "cell_type": "code",
   "execution_count": 97,
   "id": "fbf27589",
   "metadata": {},
   "outputs": [
    {
     "name": "stdout",
     "output_type": "stream",
     "text": [
      "[[-1  0  1]\n",
      " [ 1  2  3]]\n",
      "[[-1  0  1]\n",
      " [ 1  2  3]]\n"
     ]
    }
   ],
   "source": [
    "#Elementwise subtraction\n",
    "print(x-y)\n",
    "print(np.subtract(x,y))"
   ]
  },
  {
   "cell_type": "code",
   "execution_count": 100,
   "id": "31f453bc",
   "metadata": {},
   "outputs": [
    {
     "name": "stdout",
     "output_type": "stream",
     "text": [
      "[[ 1  4  9]\n",
      " [ 4 10 18]]\n",
      "[[ 1  4  9]\n",
      " [ 4 10 18]]\n"
     ]
    }
   ],
   "source": [
    "#Elementwise multiplication\n",
    "print (x*z)\n",
    "print (np.multiply(x,z))"
   ]
  },
  {
   "cell_type": "code",
   "execution_count": 101,
   "id": "567569ff",
   "metadata": {},
   "outputs": [
    {
     "name": "stdout",
     "output_type": "stream",
     "text": [
      "[[0.5        1.         1.5       ]\n",
      " [1.33333333 1.66666667 2.        ]]\n",
      "[[0.5        1.         1.5       ]\n",
      " [1.33333333 1.66666667 2.        ]]\n"
     ]
    }
   ],
   "source": [
    "#Elementwise division\n",
    "print (x/y)\n",
    "print (np.divide(x,y))"
   ]
  },
  {
   "cell_type": "code",
   "execution_count": null,
   "id": "42111428",
   "metadata": {},
   "outputs": [],
   "source": []
  }
 ],
 "metadata": {
  "kernelspec": {
   "display_name": "Python 3 (ipykernel)",
   "language": "python",
   "name": "python3"
  },
  "language_info": {
   "codemirror_mode": {
    "name": "ipython",
    "version": 3
   },
   "file_extension": ".py",
   "mimetype": "text/x-python",
   "name": "python",
   "nbconvert_exporter": "python",
   "pygments_lexer": "ipython3",
   "version": "3.9.12"
  }
 },
 "nbformat": 4,
 "nbformat_minor": 5
}
